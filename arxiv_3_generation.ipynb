{
 "cells": [
  {
   "cell_type": "code",
   "execution_count": null,
   "id": "5801c8e5-5104-4caa-b7ce-d3e6cf24edb3",
   "metadata": {},
   "outputs": [],
   "source": [
    "import os\n",
    "import shutil\n",
    "import subprocess\n",
    "\n",
    "# TODO: Set environment variable\n",
    "os.environ['PDFFIGURES_PATH'] = \"...\"\n",
    "\n",
    "# Function to execute the bash commands in Python\n",
    "def execute_bash_commands(date_folder):\n",
    "    # Create directories using os.makedirs, which also allows creating intermediate directories\n",
    "    os.makedirs(f'./dataset/arxiv_{date_folder}/out', exist_ok=True)\n",
    "    os.makedirs(f'./dataset/arxiv_{date_folder}/figures', exist_ok=True)\n",
    "\n",
    "    # Execute Python module with arguments\n",
    "    subprocess.run([\n",
    "        'python', '-m', 'nougat.dataset.split_htmls_to_pages',\n",
    "        '--html', f'./arxiv/{date_folder}/html_selected/',\n",
    "        '--pdfs', f'./arxiv/{date_folder}/pdf_selected/',\n",
    "        '--out', f'./dataset/arxiv_{date_folder}/out/',\n",
    "        '--figure', f'./dataset/arxiv_{date_folder}/figures/',\n",
    "        '--workers', '8',\n",
    "        '--timeout', '60'\n",
    "    ])\n",
    "\n",
    "# Function to execute the new set of commands\n",
    "def execute_index_and_gen_seek_commands(date_folder):\n",
    "    # Run index_builder.py for each date_folder\n",
    "    subprocess.run([\n",
    "        'python', 'index_builder.py',\n",
    "        '--dir', f'./dataset/arxiv_{date_folder}/out/',\n",
    "        '--out', f'./dataset/arxiv_{date_folder}/test.jsonl'\n",
    "    ])\n",
    "\n",
    "    # Run nougat.dataset.gen_seek module for each output file\n",
    "    subprocess.run([\n",
    "        'python', '-m', 'nougat.dataset.gen_seek',\n",
    "        f'./dataset/arxiv_{date_folder}/test.jsonl'\n",
    "    ])\n",
    "\n",
    "    print(date_folder, 'done!')"
   ]
  },
  {
   "cell_type": "code",
   "execution_count": null,
   "id": "a5671cb7-cb21-4602-90bb-b12dfe807cd1",
   "metadata": {},
   "outputs": [],
   "source": [
    "processing_dates = [\n",
    "    '0001',\n",
    "    '0002',\n",
    "    '0003',\n",
    "    '0004',\n",
    "    '0005',\n",
    "    '0006',\n",
    "    '0007',\n",
    "    '0008',\n",
    "    '0009',\n",
    "    '0010',\n",
    "    '0011',\n",
    "    '0012',\n",
    "    '0501',\n",
    "    '1001',\n",
    "    '1501',\n",
    "    '2001',\n",
    "]"
   ]
  },
  {
   "cell_type": "code",
   "execution_count": null,
   "id": "c14d3036-dedf-4ba2-a666-34d0d5bfbaed",
   "metadata": {
    "scrolled": true
   },
   "outputs": [],
   "source": [
    "for date_folder_name in processing_dates:\n",
    "    execute_bash_commands(date_folder_name)"
   ]
  },
  {
   "cell_type": "code",
   "execution_count": null,
   "id": "0f59d96e-af23-4dcf-943e-0f7956a3af80",
   "metadata": {},
   "outputs": [],
   "source": [
    "for date_folder_name in processing_dates:\n",
    "    execute_index_and_gen_seek_commands(date_folder_name)"
   ]
  }
 ],
 "metadata": {
  "kernelspec": {
   "display_name": "Python 3 (ipykernel)",
   "language": "python",
   "name": "python3"
  },
  "language_info": {
   "codemirror_mode": {
    "name": "ipython",
    "version": 3
   },
   "file_extension": ".py",
   "mimetype": "text/x-python",
   "name": "python",
   "nbconvert_exporter": "python",
   "pygments_lexer": "ipython3",
   "version": "3.9.18"
  }
 },
 "nbformat": 4,
 "nbformat_minor": 5
}
